{
 "cells": [
  {
   "cell_type": "code",
   "execution_count": 226,
   "id": "10feff43",
   "metadata": {
    "scrolled": true
   },
   "outputs": [],
   "source": [
    "#inportação de biblioteca\n",
    "import sqlite3\n",
    "import pandas as pd\n",
    "#inicio da classe\n",
    "class ConecxaoSQLite:\n",
    "#declaração de variavel com restrição privada\n",
    "    __con = \"\"\n",
    "    __caminho=\"\"\n",
    "    __comando=\"\"\n",
    "    __cur=\"\"\n",
    "    __lista_base=[]\n",
    "#metodo da classe\n",
    "    def coneCaminho(self,caminho,comando):\n",
    "        self.__caminho = caminho\n",
    "        self.__comando = comando\n",
    "        __con = sqlite3.connect(self.__caminho)\n",
    "        __cur = __con.cursor()\n",
    "        for row in __cur.execute(self.__comando):\n",
    "            self.__lista_base.append(row)\n",
    "            \n",
    "        return self.__lista_base"
   ]
  },
  {
   "cell_type": "code",
   "execution_count": 227,
   "id": "9b471b4b",
   "metadata": {},
   "outputs": [],
   "source": [
    "conectar = ConecxaoSQLite()\n",
    "descricao=[\"Nome\",\"Compositor\",\"Milisegundo\",\"Byte\",\"Preço Unitário\"]\n",
    "lista = conectar.coneCaminho(\"bancoSQLite/extra_practice_database.db\",\"SELECT track.Name,track.Composer,track.Milliseconds, track.Bytes, track.UnitPrice From track\")\n",
    "\n",
    "lista_base = pd.DataFrame(columns=descricao,data = lista)\n",
    "\n",
    "lista_base.to_excel('vendasTrimestres.xlsx')"
   ]
  },
  {
   "cell_type": "code",
   "execution_count": null,
   "id": "32c1a5ff",
   "metadata": {},
   "outputs": [],
   "source": []
  },
  {
   "cell_type": "code",
   "execution_count": null,
   "id": "99f6920e",
   "metadata": {},
   "outputs": [],
   "source": []
  }
 ],
 "metadata": {
  "kernelspec": {
   "display_name": "Python 3 (ipykernel)",
   "language": "python",
   "name": "python3"
  },
  "language_info": {
   "codemirror_mode": {
    "name": "ipython",
    "version": 3
   },
   "file_extension": ".py",
   "mimetype": "text/x-python",
   "name": "python",
   "nbconvert_exporter": "python",
   "pygments_lexer": "ipython3",
   "version": "3.9.13"
  }
 },
 "nbformat": 4,
 "nbformat_minor": 5
}
