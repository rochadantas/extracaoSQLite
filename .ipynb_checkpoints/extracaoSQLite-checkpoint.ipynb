{
 "cells": [
  {
   "cell_type": "code",
   "execution_count": null,
   "id": "10feff43",
   "metadata": {
    "scrolled": true
   },
   "outputs": [],
   "source": [
    "#inportação de biblioteca\n",
    "import sqlite3\n",
    "import os\n",
    "import pandas as pd\n",
    "#inicio da classe\n",
    "class ConecxaoSQLite():\n",
    "#declaração de variavel\n",
    "    __con = \"\"\n",
    "    def __valores_conecxao(self caminho)\n",
    "    self.__con = sqlite3.connect(self.caminho)\n",
    "    cur=self.__con.cursor()"
   ]
  },
  {
   "cell_type": "code",
   "execution_count": null,
   "id": "9b471b4b",
   "metadata": {},
   "outputs": [],
   "source": [
    "conectar = ConecxaoSQLite(\"bancoSQLite\\extra_practice_database.db\");\n",
    "\n",
    "lista_base=[]\n",
    "\n",
    "for row in conectar.cur.execute('SELECT * From track'):\n",
    "   \n",
    "    lista_base.append(row)\n",
    "\n",
    "lista = lista_base\n",
    "\n",
    "lista_teste = pd.DataFrame(lista)\n",
    "\n",
    "lista_teste.to_excel('testevendas.xlsx')"
   ]
  },
  {
   "cell_type": "code",
   "execution_count": null,
   "id": "eeb4017a",
   "metadata": {},
   "outputs": [],
   "source": []
  },
  {
   "cell_type": "code",
   "execution_count": null,
   "id": "53309d1f",
   "metadata": {},
   "outputs": [],
   "source": []
  }
 ],
 "metadata": {
  "kernelspec": {
   "display_name": "Python 3 (ipykernel)",
   "language": "python",
   "name": "python3"
  },
  "language_info": {
   "codemirror_mode": {
    "name": "ipython",
    "version": 3
   },
   "file_extension": ".py",
   "mimetype": "text/x-python",
   "name": "python",
   "nbconvert_exporter": "python",
   "pygments_lexer": "ipython3",
   "version": "3.9.13"
  }
 },
 "nbformat": 4,
 "nbformat_minor": 5
}
